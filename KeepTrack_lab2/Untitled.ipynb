{
 "cells": [
  {
   "cell_type": "code",
   "execution_count": 1,
   "metadata": {},
   "outputs": [
    {
     "name": "stdout",
     "output_type": "stream",
     "text": [
      "  adding: Accumulating Errors.ipynb (deflated 29%)\r\n",
      "  adding: data_generator.ipynb (deflated 38%)\r\n",
      "  adding: Integrating Rate Gyro Data.ipynb (deflated 33%)\r\n",
      "  adding: __pycache__/ (stored 0%)\r\n",
      "  adding: __pycache__/helpers.cpython-36.pyc (deflated 44%)\r\n",
      "  adding: elevator-lac.csv (deflated 61%)\r\n",
      "  adding: Approximating the Integral.ipynb (deflated 31%)\r\n",
      "  adding: .ipynb_checkpoints/ (stored 0%)\r\n",
      "  adding: .ipynb_checkpoints/Integrating Rate Gyro Data-checkpoint.ipynb (deflated 66%)\r\n",
      "  adding: .ipynb_checkpoints/Accumulating Errors-checkpoint.ipynb (deflated 70%)\r\n",
      "  adding: .ipynb_checkpoints/Untitled-checkpoint.ipynb (deflated 21%)\r\n",
      "  adding: .ipynb_checkpoints/Approximating the Integral-checkpoint.ipynb (deflated 73%)\r\n",
      "  adding: .ipynb_checkpoints/Plotting Elevator Acceleration-checkpoint.ipynb (deflated 61%)\r\n",
      "  adding: .ipynb_checkpoints/data_generator-checkpoint.ipynb (deflated 38%)\r\n",
      "  adding: .ipynb_checkpoints/Integrating Accelerometer Data-checkpoint.ipynb (deflated 71%)\r\n",
      "  adding: Plotting Elevator Acceleration.ipynb (deflated 29%)\r\n",
      "  adding: helpers.py (deflated 63%)\r\n",
      "  adding: Untitled.ipynb (deflated 21%)\r\n",
      "  adding: Integrating Accelerometer Data.ipynb (deflated 32%)\r\n",
      "  adding: parallel_park.pickle (deflated 63%)\r\n"
     ]
    }
   ],
   "source": [
    "!!apt-get -y update && apt-get install -y zip\n",
    "!zip AccErr_lab.zip -r . *.ipynb *.py *.csv *.pickle"
   ]
  },
  {
   "cell_type": "code",
   "execution_count": null,
   "metadata": {},
   "outputs": [],
   "source": []
  }
 ],
 "metadata": {
  "kernelspec": {
   "display_name": "Python 3",
   "language": "python",
   "name": "python3"
  },
  "language_info": {
   "codemirror_mode": {
    "name": "ipython",
    "version": 3
   },
   "file_extension": ".py",
   "mimetype": "text/x-python",
   "name": "python",
   "nbconvert_exporter": "python",
   "pygments_lexer": "ipython3",
   "version": "3.6.3"
  }
 },
 "nbformat": 4,
 "nbformat_minor": 2
}
